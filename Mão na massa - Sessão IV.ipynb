{
 "cells": [
  {
   "cell_type": "markdown",
   "id": "f98a639b",
   "metadata": {},
   "source": [
    "#### a) Atribua 500 para a variável “valor”. Se valor for maior que 500, imprima “Grande” na tela. Se o valor estiver entre 300 e 500, imprima “Médio” na tela. Se o valor for menor que 300, imprima “Pequeno” na tela. Altere o conteúdo da variável valor, para ver como o resultado se comporta.\n",
    "#### b) Como ficaria esse código se você tivesse que incluir uma 4a condição, valor<0 e mostrar o valor “Negativo” na tela?\n",
    "#### c) Crie um código usando estruturas condicionais para classificar essa lista de veículos em carro , moto ou inválido: “Fusca”, “Maverick”, “Toro”, “CG 160 Titan”, “Abacaxi”, “Biz 125”, “Cerato”, “Kawasaki Z 250”."
   ]
  },
  {
   "cell_type": "code",
   "execution_count": 2,
   "id": "9369a5d4",
   "metadata": {},
   "outputs": [
    {
     "name": "stdout",
     "output_type": "stream",
     "text": [
      "Grande\n"
     ]
    }
   ],
   "source": [
    "valor = 500\n",
    "if valor >= 500:\n",
    "    print('Grande')\n",
    "elif 300 < valor > 500:\n",
    "    print ('Médio')\n",
    "elif valor <= 300:\n",
    "    print ('Pequeno')"
   ]
  },
  {
   "cell_type": "code",
   "execution_count": 5,
   "id": "8551d5d0",
   "metadata": {},
   "outputs": [
    {
     "name": "stdout",
     "output_type": "stream",
     "text": [
      "Negativo\n"
     ]
    }
   ],
   "source": [
    "valor = -500\n",
    "if valor >= 500:\n",
    "    print('Grande')\n",
    "elif 300 < valor > 500:\n",
    "    print('Médio')\n",
    "elif 0 <= valor <= 300:\n",
    "    print('Pequeno')\n",
    "elif valor < 0:\n",
    "    print('Negativo')"
   ]
  },
  {
   "cell_type": "code",
   "execution_count": 3,
   "id": "3a6ec64b",
   "metadata": {},
   "outputs": [
    {
     "name": "stdout",
     "output_type": "stream",
     "text": [
      "['Fusca', 'Maverick', 'Toro', 'CG 160 Titan', 'Abacaxi', 'Biz 125', 'Cerato', 'Kawasaki z250']\n"
     ]
    }
   ],
   "source": [
    "#Crie um código usando estruturas condicionais para classificar essa lista de veículos em carro, \n",
    "#moto ou inválido: “Fusca”, “Maverick”, “Toro”, “CG 160 Titan”, “Abacaxi”, “Biz 125”, “Cerato”, “Kawasaki Z 250”.\n",
    "list1=['Fusca', 'Maverick', 'Toro', 'CG 160 Titan', 'Abacaxi', 'Biz 125', 'Cerato', 'Kawasaki z250']\n",
    "print(list1)\n",
    "if list1 "
   ]
  },
  {
   "cell_type": "code",
   "execution_count": null,
   "id": "6f622a42",
   "metadata": {},
   "outputs": [],
   "source": []
  }
 ],
 "metadata": {
  "kernelspec": {
   "display_name": "Python 3 (ipykernel)",
   "language": "python",
   "name": "python3"
  },
  "language_info": {
   "codemirror_mode": {
    "name": "ipython",
    "version": 3
   },
   "file_extension": ".py",
   "mimetype": "text/x-python",
   "name": "python",
   "nbconvert_exporter": "python",
   "pygments_lexer": "ipython3",
   "version": "3.9.7"
  }
 },
 "nbformat": 4,
 "nbformat_minor": 5
}
