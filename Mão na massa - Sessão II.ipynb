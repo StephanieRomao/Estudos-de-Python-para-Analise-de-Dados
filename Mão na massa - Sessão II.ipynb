{
 "cells": [
  {
   "cell_type": "markdown",
   "id": "259e5f82",
   "metadata": {},
   "source": [
    "## <center><h1>Criação de variáveis</h1></center>\n",
    "\n",
    "#### a) Crie um notebook do zero, renomeando-o para Mão na Massa – Sessão II\n",
    "#### b) Por meio do notebook Jupyter, crie algumas variáveis do tipo inteiro, do tipo float e do tipo string\n",
    "#### c) Antes de criá-las, coloque uma linha de comentário para descrever o que representam\n",
    "#### d) Use a função type() para confirmar que as variáveis criadas tem os formatos pretendidos\n",
    "#### e) Qual deveria ser o resultado do cálculo 3**2*3? E do cálculo 3*3**2? Mostre isso no notebook\n",
    "#### f) Qual deveria ser o resultado do cálculo 5/9**0.5? Mostre isso no notebook\n",
    "#### g) Qual o resultado do valor inteiro da divisão entre 531.313 e 765? Mostre isso no notebook\n",
    "#### h) Calcule a área de um círculo com raio=2.2m (a fórmula da área do círculo é pi*r2 e pi equivale a 3.1415926). Use o comando input() para calcular o valor da área do círculo a partir do valor do raio, fornecido pelo usuário."
   ]
  },
  {
   "cell_type": "code",
   "execution_count": 1,
   "id": "fef3a459",
   "metadata": {},
   "outputs": [
    {
     "name": "stdout",
     "output_type": "stream",
     "text": [
      "5\n"
     ]
    },
    {
     "data": {
      "text/plain": [
       "int"
      ]
     },
     "execution_count": 1,
     "metadata": {},
     "output_type": "execute_result"
    }
   ],
   "source": [
    "#variável inteiro (int)\n",
    "x = 5\n",
    "\n",
    "print(x)\n",
    "type(x)"
   ]
  },
  {
   "cell_type": "code",
   "execution_count": 2,
   "id": "31c542f4",
   "metadata": {},
   "outputs": [
    {
     "name": "stdout",
     "output_type": "stream",
     "text": [
      "3.14\n"
     ]
    },
    {
     "data": {
      "text/plain": [
       "float"
      ]
     },
     "execution_count": 2,
     "metadata": {},
     "output_type": "execute_result"
    }
   ],
   "source": [
    "#variável float\n",
    "y = 3.14\n",
    "\n",
    "print(y)\n",
    "type(y)"
   ]
  },
  {
   "cell_type": "code",
   "execution_count": 4,
   "id": "9b7459db",
   "metadata": {},
   "outputs": [
    {
     "name": "stdout",
     "output_type": "stream",
     "text": [
      "Stephanie\n"
     ]
    },
    {
     "data": {
      "text/plain": [
       "str"
      ]
     },
     "execution_count": 4,
     "metadata": {},
     "output_type": "execute_result"
    }
   ],
   "source": [
    "#variável string\n",
    "nome = \"Stephanie\"\n",
    "\n",
    "print(nome)\n",
    "type(nome)"
   ]
  },
  {
   "cell_type": "code",
   "execution_count": 10,
   "id": "68133342",
   "metadata": {},
   "outputs": [
    {
     "data": {
      "text/plain": [
       "27"
      ]
     },
     "execution_count": 10,
     "metadata": {},
     "output_type": "execute_result"
    }
   ],
   "source": [
    "#Potência\n",
    "(3 ** 2) * 3"
   ]
  },
  {
   "cell_type": "code",
   "execution_count": 9,
   "id": "cd7747ba",
   "metadata": {},
   "outputs": [
    {
     "data": {
      "text/plain": [
       "27"
      ]
     },
     "execution_count": 9,
     "metadata": {},
     "output_type": "execute_result"
    }
   ],
   "source": [
    "#Potência\n",
    "3 * (3 ** 2)"
   ]
  },
  {
   "cell_type": "code",
   "execution_count": 11,
   "id": "0cd159b3",
   "metadata": {},
   "outputs": [
    {
     "data": {
      "text/plain": [
       "1.6666666666666667"
      ]
     },
     "execution_count": 11,
     "metadata": {},
     "output_type": "execute_result"
    }
   ],
   "source": [
    "#Potência\n",
    "5 / (9 ** 0.5)"
   ]
  },
  {
   "cell_type": "code",
   "execution_count": 8,
   "id": "001c2370",
   "metadata": {},
   "outputs": [
    {
     "data": {
      "text/plain": [
       "694"
      ]
     },
     "execution_count": 8,
     "metadata": {},
     "output_type": "execute_result"
    }
   ],
   "source": [
    "#Divisão inteira\n",
    "531313 // 765"
   ]
  },
  {
   "cell_type": "code",
   "execution_count": 12,
   "id": "ecbca951",
   "metadata": {},
   "outputs": [
    {
     "data": {
      "text/plain": [
       "403"
      ]
     },
     "execution_count": 12,
     "metadata": {},
     "output_type": "execute_result"
    }
   ],
   "source": [
    "#Resto da divisão inteira\n",
    "531313 % 765"
   ]
  },
  {
   "cell_type": "code",
   "execution_count": 14,
   "id": "2346f5f5",
   "metadata": {},
   "outputs": [
    {
     "data": {
      "text/plain": [
       "531313"
      ]
     },
     "execution_count": 14,
     "metadata": {},
     "output_type": "execute_result"
    }
   ],
   "source": [
    "#Prova os resultados obtidos na divisão inteira acima\n",
    "(694 * 765) + 403"
   ]
  },
  {
   "cell_type": "code",
   "execution_count": 15,
   "id": "3c2baca2",
   "metadata": {},
   "outputs": [
    {
     "name": "stdout",
     "output_type": "stream",
     "text": [
      "Digite aqui o raio: 4\n",
      "O valor da área é  50.2654816\n"
     ]
    }
   ],
   "source": [
    "#Área do círculo usando valor fixo de pi\n",
    "pi = 3.1415926\n",
    "raio = float(input(\"Digite aqui o raio: \"))\n",
    "area = pi * (raio ** 2)\n",
    "\n",
    "print(\"O valor da área é \", area)"
   ]
  },
  {
   "cell_type": "code",
   "execution_count": 16,
   "id": "f7ad523f",
   "metadata": {},
   "outputs": [
    {
     "name": "stdout",
     "output_type": "stream",
     "text": [
      "Digite aqui o raio: 4\n",
      "O valor da área é  50.26548245743669\n"
     ]
    }
   ],
   "source": [
    "#Área do círculo usando o valor de pi da biblioteca\n",
    "import math\n",
    "raio = float(input(\"Digite aqui o raio: \"))\n",
    "area = math.pi * (raio ** 2)\n",
    "\n",
    "print(\"O valor da área é \", area)"
   ]
  },
  {
   "cell_type": "code",
   "execution_count": 20,
   "id": "c3e7cf7f",
   "metadata": {},
   "outputs": [
    {
     "data": {
      "text/plain": [
       "3.141592653589793"
      ]
     },
     "execution_count": 20,
     "metadata": {},
     "output_type": "execute_result"
    }
   ],
   "source": [
    "#Valor de pi na biblioteca da Numpy\n",
    "import numpy\n",
    "numpy.pi"
   ]
  },
  {
   "cell_type": "code",
   "execution_count": 21,
   "id": "5da6b2cd",
   "metadata": {},
   "outputs": [
    {
     "data": {
      "text/plain": [
       "3.141592653589793"
      ]
     },
     "execution_count": 21,
     "metadata": {},
     "output_type": "execute_result"
    }
   ],
   "source": [
    "math.pi"
   ]
  }
 ],
 "metadata": {
  "kernelspec": {
   "display_name": "Python 3 (ipykernel)",
   "language": "python",
   "name": "python3"
  },
  "language_info": {
   "codemirror_mode": {
    "name": "ipython",
    "version": 3
   },
   "file_extension": ".py",
   "mimetype": "text/x-python",
   "name": "python",
   "nbconvert_exporter": "python",
   "pygments_lexer": "ipython3",
   "version": "3.9.7"
  }
 },
 "nbformat": 4,
 "nbformat_minor": 5
}
