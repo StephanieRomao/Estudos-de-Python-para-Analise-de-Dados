{
 "cells": [
  {
   "cell_type": "markdown",
   "id": "ba055747",
   "metadata": {},
   "source": [
    "##### a) Exiba as 10 primeiras e 10 últimas linhas da tabela\n",
    "##### b) Quantos registros (linhas) e quantas colunas traz a tabela?\n",
    "##### c) Qual a quantidade de transações (gastos) feitas pelo PT (Partido dos Trabalhadores)?\n",
    "##### d) Qual o valor médio de transações da base?\n",
    "##### e) Qual a quantidade de transações (gastos) acima da média ? (Obs.: Mais tarde vamos mostrar que existe uma baita pegadinha nesse tipo de pergunta).\n",
    "##### f) Filtre apenas as transações realizadas por deputados do PSDB do Rio Grande do Sul. Quantas foram as transações?\n",
    "##### g) Filtre todas as transações realizadas no período de recesso (suposição: janeiro, fevereiro e dezembro)"
   ]
  },
  {
   "cell_type": "code",
   "execution_count": null,
   "id": "471dda57",
   "metadata": {},
   "outputs": [],
   "source": []
  }
 ],
 "metadata": {
  "kernelspec": {
   "display_name": "Python 3 (ipykernel)",
   "language": "python",
   "name": "python3"
  },
  "language_info": {
   "codemirror_mode": {
    "name": "ipython",
    "version": 3
   },
   "file_extension": ".py",
   "mimetype": "text/x-python",
   "name": "python",
   "nbconvert_exporter": "python",
   "pygments_lexer": "ipython3",
   "version": "3.9.7"
  }
 },
 "nbformat": 4,
 "nbformat_minor": 5
}
