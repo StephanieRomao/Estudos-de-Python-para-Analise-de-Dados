{
 "cells": [
  {
   "cell_type": "markdown",
   "id": "99e1fc2d",
   "metadata": {},
   "source": [
    "<center><h1>Usando operadores!</h1></center>\n",
    "\n",
    "<h4>a) Crie um notebook do zero, renomeando-o para Mão na Massa – Sessão III</h4>\n",
    "<h4>b) valor=100, valor+=120</h4>\n",
    "<h4>c) valor=50, valor/=12</h4>\n",
    "<h4>d) Valor=100, valor*=30</h4>\n",
    "<h4>d) Dado que valor1=50, valor2=150, como vc avalia valor1<=50 and valor2>30?</h4>\n",
    "<h4>e) Dado que valor1=-20, valor2=1, como vc avalia valor1>0 or valor1=0?</h4>\n",
    "<h4>f) Dado que valor1=50, valor2=0, como vc avalia valor1-valor2>1 and valor1+valor2>0?</h4>\n",
    "<h4>g) Se a condição(valor1+valor2)>0 for verdadeira, exiba a mensagem \"Verdade!</h4>\n",
    "<h4>h) Se a condição not (valor2>0) for verdadeira, exiba a mensagem \"Verdade!\"</h4>\n",
    "<h4>i) Teste as seguintes condições no Python: T and F, F and F, F or F, T or F, T or T. O que você observou?</h4>"
   ]
  },
  {
   "cell_type": "code",
   "execution_count": 1,
   "id": "764d2b53",
   "metadata": {},
   "outputs": [
    {
     "name": "stdout",
     "output_type": "stream",
     "text": [
      "220\n"
     ]
    }
   ],
   "source": [
    "#Somando de um jeito diferente\n",
    "valor = 100\n",
    "valor += 120\n",
    "print(valor)"
   ]
  },
  {
   "cell_type": "code",
   "execution_count": 2,
   "id": "a9439b93",
   "metadata": {},
   "outputs": [
    {
     "name": "stdout",
     "output_type": "stream",
     "text": [
      "4.166666666666667\n"
     ]
    }
   ],
   "source": [
    "#Divisão de um jeito diferente\n",
    "valor = 50\n",
    "valor /= 12\n",
    "print(valor)"
   ]
  },
  {
   "cell_type": "code",
   "execution_count": 3,
   "id": "de6faee6",
   "metadata": {},
   "outputs": [
    {
     "name": "stdout",
     "output_type": "stream",
     "text": [
      "3000\n"
     ]
    }
   ],
   "source": [
    "#Multiplicação de um jeito diferente\n",
    "valor = 100\n",
    "valor *= 30\n",
    "print(valor)"
   ]
  },
  {
   "cell_type": "code",
   "execution_count": 11,
   "id": "acf50207",
   "metadata": {},
   "outputs": [
    {
     "name": "stdout",
     "output_type": "stream",
     "text": [
      "Os dois são verdadeiros\n"
     ]
    }
   ],
   "source": [
    "valor1 = 50\n",
    "valor2 = 150\n",
    "\n",
    "if valor1<=50 and valor2>30:\n",
    "    print('Os dois são verdadeiros')"
   ]
  },
  {
   "cell_type": "code",
   "execution_count": 19,
   "id": "f1f9ca88",
   "metadata": {},
   "outputs": [],
   "source": [
    "valor1 = -20\n",
    "valor2 = 1\n",
    "\n",
    "if valor1>0 or valor2==0:\n",
    "    print('Uma das afirmações está correta')"
   ]
  },
  {
   "cell_type": "code",
   "execution_count": 34,
   "id": "06a982a2",
   "metadata": {},
   "outputs": [
    {
     "name": "stdout",
     "output_type": "stream",
     "text": [
      "As duas afirmações são verdadeiras\n"
     ]
    }
   ],
   "source": [
    "#Dado que valor1=50, valor2=0, como vc avalia valor1-valor2>1 and valor1+valor2>0?\n",
    "valor1 = 50\n",
    "valor2 = 0\n",
    "\n",
    "x = valor1 - valor2\n",
    "y = valor1 + valor2\n",
    "\n",
    "if  x>1 and y>0:\n",
    "    print('As duas afirmações são verdadeiras')"
   ]
  },
  {
   "cell_type": "code",
   "execution_count": 33,
   "id": "7d8603cb",
   "metadata": {},
   "outputs": [
    {
     "name": "stdout",
     "output_type": "stream",
     "text": [
      "Verdade!\n"
     ]
    }
   ],
   "source": [
    "if y>0:\n",
    "    print('Verdade!')"
   ]
  },
  {
   "cell_type": "code",
   "execution_count": 35,
   "id": "59dd2a25",
   "metadata": {},
   "outputs": [
    {
     "name": "stdout",
     "output_type": "stream",
     "text": [
      "Verdade!\n"
     ]
    }
   ],
   "source": [
    "#Se a condição not (valor2>0) for verdadeira, exiba a mensagem \"Verdade!\"\n",
    "if not valor2>0:\n",
    "    print('Verdade!')"
   ]
  },
  {
   "cell_type": "code",
   "execution_count": null,
   "id": "0e4f3ec9",
   "metadata": {},
   "outputs": [],
   "source": [
    "#Teste as seguintes condições no Python: T and F, F and F, F or F, T or F, T or T. O que você observou?"
   ]
  }
 ],
 "metadata": {
  "kernelspec": {
   "display_name": "Python 3 (ipykernel)",
   "language": "python",
   "name": "python3"
  },
  "language_info": {
   "codemirror_mode": {
    "name": "ipython",
    "version": 3
   },
   "file_extension": ".py",
   "mimetype": "text/x-python",
   "name": "python",
   "nbconvert_exporter": "python",
   "pygments_lexer": "ipython3",
   "version": "3.9.7"
  }
 },
 "nbformat": 4,
 "nbformat_minor": 5
}
