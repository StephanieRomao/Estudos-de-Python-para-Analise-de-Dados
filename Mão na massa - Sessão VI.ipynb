{
 "cells": [
  {
   "cell_type": "markdown",
   "id": "dbc4a9e7",
   "metadata": {},
   "source": [
    "##### a) Use a estrutura “for” para gerar uma sequência de números pares até 20.\n",
    "#\n",
    "#### b) Use a estrutura “for” para gerar números entre 1 e 10, exceto o número 7.\n",
    "#\n",
    "#### c) Use a estrutura “while” para listar as regiões do Brasil (“Norte”, “Nordeste”, “Sul”, “Centro-Oeste” e Sudeste),\n",
    "#### exceto a região “Centro-Oeste”."
   ]
  },
  {
   "cell_type": "code",
   "execution_count": 1,
   "id": "f4fece28",
   "metadata": {},
   "outputs": [
    {
     "name": "stdout",
     "output_type": "stream",
     "text": [
      "O número é  0\n",
      "O número é  2\n",
      "O número é  4\n",
      "O número é  6\n",
      "O número é  8\n",
      "O número é  10\n",
      "O número é  12\n",
      "O número é  14\n",
      "O número é  16\n",
      "O número é  18\n",
      "O número é  20\n"
     ]
    }
   ],
   "source": [
    "for numero in range(21):\n",
    "    if numero % 2 == 0:\n",
    "        print('O número é ', numero)"
   ]
  },
  {
   "cell_type": "code",
   "execution_count": 2,
   "id": "121c3750",
   "metadata": {},
   "outputs": [
    {
     "name": "stdout",
     "output_type": "stream",
     "text": [
      "O número é  1\n",
      "O número é  2\n",
      "O número é  3\n",
      "O número é  4\n",
      "O número é  5\n",
      "O número é  6\n",
      "O número é  8\n",
      "O número é  9\n",
      "O número é  10\n"
     ]
    }
   ],
   "source": [
    "numero = 1\n",
    "for numero in range(1, 11):\n",
    "    if numero != 7:\n",
    "        print('O número é ', numero)"
   ]
  },
  {
   "cell_type": "code",
   "execution_count": 7,
   "id": "cb29fe1f",
   "metadata": {},
   "outputs": [],
   "source": [
    "#Use a estrutura “while” para listar as regiões do Brasil (“Norte”, “Nordeste”, “Sul”, “Centro-Oeste” e Sudeste),\n",
    "#exceto a região “Centro-Oeste”\n",
    "\n",
    "#Regioes_Brasil = ['Norte', 'Nordeste', 'Sul', 'Centro-Oeste', 'Sudeste']\n",
    "#i = 0\n",
    "#while Regioes_Brasil:\n",
    " #   if i == 4:\n",
    "  #      print(Regioes_Brasil[i])\n",
    "   #     break\n",
    "    \n",
    "#Por que esse jeito não da certo?"
   ]
  },
  {
   "cell_type": "code",
   "execution_count": 3,
   "id": "17e0875c",
   "metadata": {},
   "outputs": [
    {
     "name": "stdout",
     "output_type": "stream",
     "text": [
      "Nordeste\n",
      "5\n"
     ]
    }
   ],
   "source": [
    "#Use a estrutura “while” para listar as regiões do Brasil (“Norte”, “Nordeste”, “Sul”, “Centro-Oeste” e Sudeste),\n",
    "#exceto a região “Centro-Oeste”\n",
    "\n",
    "Regioes_Brasil = ['Norte', 'Nordeste', 'Sul', 'Centro-Oeste', 'Sudeste']\n",
    "i = 1\n",
    "while Regioes_Brasil:\n",
    "    if i == len(Regioes_Brasil):\n",
    "        break\n",
    "    if Regioes_Brasil[i] == 'Centro-Oeste':\n",
    "        i += 2\n",
    "    else:\n",
    "        print(Regioes_Brasil[i])\n",
    "        i += 2\n",
    "print(len(Regioes_Brasil))"
   ]
  },
  {
   "cell_type": "code",
   "execution_count": null,
   "id": "72578d0c",
   "metadata": {},
   "outputs": [],
   "source": []
  }
 ],
 "metadata": {
  "kernelspec": {
   "display_name": "Python 3 (ipykernel)",
   "language": "python",
   "name": "python3"
  },
  "language_info": {
   "codemirror_mode": {
    "name": "ipython",
    "version": 3
   },
   "file_extension": ".py",
   "mimetype": "text/x-python",
   "name": "python",
   "nbconvert_exporter": "python",
   "pygments_lexer": "ipython3",
   "version": "3.9.7"
  }
 },
 "nbformat": 4,
 "nbformat_minor": 5
}
