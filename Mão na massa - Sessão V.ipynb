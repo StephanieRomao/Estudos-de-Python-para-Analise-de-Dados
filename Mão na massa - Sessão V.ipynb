{
 "cells": [
  {
   "cell_type": "markdown",
   "id": "97fc1931",
   "metadata": {},
   "source": [
    "#### a) Crie uma lista com os números 1,3,5,7,9,11,13,15,17,19 e 21.\n",
    "##### a.1) Qual o tamanho da lista?\n",
    "##### a.2) Qual o máximo valor da lista?\n",
    "##### a.3) Qual a média dos elementos dessa lista?\n",
    "##### a.4) Ordene a lista em ordem decrescente.\n",
    "##### a.5) Adicione o elemento 10 a essa lista.\n",
    "#\n",
    "#### b) Considere os conjuntos A= {100,200,300,500,600,800), B={150,200,250,350,400,500) e C={300,200}.\n",
    "##### b.1) Qual a soma dos valores do conjunto D que é a intersecção de A, B e C?\n",
    "##### b.2) Qual a média da união dos elementos desses 3 conjuntos?\n",
    "#\n",
    "#### c) Crie um dicionário com chaves & valores associados à população dos estados do Sul do Brasil. Qual a média dos valores desse dicionário?"
   ]
  },
  {
   "cell_type": "code",
   "execution_count": 17,
   "id": "db53f6de",
   "metadata": {},
   "outputs": [
    {
     "name": "stdout",
     "output_type": "stream",
     "text": [
      "11\n",
      "21\n",
      "11.0\n",
      "[21, 19, 17, 15, 13, 11, 9, 7, 5, 3, 1]\n",
      "[21, 19, 17, 15, 13, 11, 9, 7, 5, 3, 1, 10]\n"
     ]
    }
   ],
   "source": [
    "#Resolução da A\n",
    "lista1 = [1, 3, 5, 7, 9, 11, 13, 15, 17, 19, 21]\n",
    "#tamanho da lista\n",
    "print(len(lista1))\n",
    "\n",
    "#valor máximo\n",
    "print(lista1[10])\n",
    "\n",
    "#média dos elementos\n",
    "print(sum(lista1)/len(lista1))\n",
    "\n",
    "#ordem descrescente\n",
    "lista1.sort(reverse = True)\n",
    "print(lista1)\n",
    "\n",
    "#adicionando elementos\n",
    "lista1.append(10)\n",
    "print(lista1)"
   ]
  },
  {
   "cell_type": "code",
   "execution_count": 39,
   "id": "ab5e1232",
   "metadata": {},
   "outputs": [
    {
     "name": "stdout",
     "output_type": "stream",
     "text": [
      "{200}\n",
      "{200}\n",
      "365.0\n"
     ]
    }
   ],
   "source": [
    "#Resolução do B\n",
    "A = {100, 200, 300, 500, 600, 800}\n",
    "B = {150, 200, 250, 350, 400, 500}\n",
    "C = {300, 200}\n",
    "\n",
    "D = A & B & C\n",
    "D1 = A.intersection(B, C)\n",
    "print(D)\n",
    "print(D1)\n",
    "\n",
    "E = (A | B | C)\n",
    "print(sum(E)/len(E))"
   ]
  },
  {
   "cell_type": "code",
   "execution_count": 49,
   "id": "77f642ad",
   "metadata": {},
   "outputs": [
    {
     "data": {
      "text/plain": [
       "dict"
      ]
     },
     "execution_count": 49,
     "metadata": {},
     "output_type": "execute_result"
    }
   ],
   "source": [
    "#c) Crie um dicionário com chaves & valores associados à população dos estados do Sul do Brasil.\n",
    "#Qual a média dos valores desse dicionário?\n",
    "dict1 = {\"Rio Grande do Sul\": 10693929, \"Santa Catarina\": 6248236, \"Paraná\": 10444526}\n",
    "type(dict1)"
   ]
  },
  {
   "cell_type": "code",
   "execution_count": 46,
   "id": "c2a6d142",
   "metadata": {},
   "outputs": [
    {
     "data": {
      "text/plain": [
       "dict"
      ]
     },
     "execution_count": 46,
     "metadata": {},
     "output_type": "execute_result"
    }
   ],
   "source": [
    "my_dict = {\"a\": 1, \"b\": 2}\n",
    "type(my_dict)"
   ]
  },
  {
   "cell_type": "code",
   "execution_count": null,
   "id": "83062086",
   "metadata": {},
   "outputs": [],
   "source": []
  }
 ],
 "metadata": {
  "kernelspec": {
   "display_name": "Python 3 (ipykernel)",
   "language": "python",
   "name": "python3"
  },
  "language_info": {
   "codemirror_mode": {
    "name": "ipython",
    "version": 3
   },
   "file_extension": ".py",
   "mimetype": "text/x-python",
   "name": "python",
   "nbconvert_exporter": "python",
   "pygments_lexer": "ipython3",
   "version": "3.9.7"
  }
 },
 "nbformat": 4,
 "nbformat_minor": 5
}
