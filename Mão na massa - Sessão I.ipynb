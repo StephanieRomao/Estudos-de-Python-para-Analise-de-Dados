{
 "cells": [
  {
   "cell_type": "markdown",
   "id": "4f0780ef",
   "metadata": {},
   "source": [
    "<center><h1> Meus Primeiros Cálculos</h1></center>"
   ]
  },
  {
   "cell_type": "markdown",
   "id": "e6c7bb6a",
   "metadata": {},
   "source": [
    "#### a) Crie um notebook novo, do zero\n",
    "#### b) Renomeie o notebook para Mão na Massa – Sessão I\n",
    "#### c) Coloque um cabeçalho no notebook, centralizado, com o texto “Meus Primeiros Cálculos”\n",
    "#### d) Faça 5 cálculos em células diferentes (3*(2+1), 6**3, 4/3, 9/0.1, 500-498)\n",
    "#### e) Coloque comentários para descrever cada um desses cálculos\n",
    "#### f) Qual o resultado do resto da divisão entre 6553 e 29? Faça essa operação no notebook\n",
    "#### g) Teste o comando pow para realizar a operação 8 elevado a 5. Faça essa operação no notebook"
   ]
  },
  {
   "cell_type": "code",
   "execution_count": 1,
   "id": "22035100",
   "metadata": {},
   "outputs": [
    {
     "data": {
      "text/plain": [
       "9"
      ]
     },
     "execution_count": 1,
     "metadata": {},
     "output_type": "execute_result"
    }
   ],
   "source": [
    "#Multiplicação de uma soma\n",
    "3*(2+1)"
   ]
  },
  {
   "cell_type": "code",
   "execution_count": 2,
   "id": "bd4a2ea7",
   "metadata": {},
   "outputs": [
    {
     "data": {
      "text/plain": [
       "216"
      ]
     },
     "execution_count": 2,
     "metadata": {},
     "output_type": "execute_result"
    }
   ],
   "source": [
    "#Potência\n",
    "6**3"
   ]
  },
  {
   "cell_type": "code",
   "execution_count": 3,
   "id": "e1ff1df1",
   "metadata": {},
   "outputs": [
    {
     "data": {
      "text/plain": [
       "1.3333333333333333"
      ]
     },
     "execution_count": 3,
     "metadata": {},
     "output_type": "execute_result"
    }
   ],
   "source": [
    "#Divisão\n",
    "4/3"
   ]
  },
  {
   "cell_type": "code",
   "execution_count": 4,
   "id": "3f02030c",
   "metadata": {},
   "outputs": [
    {
     "data": {
      "text/plain": [
       "90.0"
      ]
     },
     "execution_count": 4,
     "metadata": {},
     "output_type": "execute_result"
    }
   ],
   "source": [
    "#Divisão de número decimal\n",
    "9/0.1"
   ]
  },
  {
   "cell_type": "code",
   "execution_count": 1,
   "id": "21466af8",
   "metadata": {},
   "outputs": [
    {
     "data": {
      "text/plain": [
       "2"
      ]
     },
     "execution_count": 1,
     "metadata": {},
     "output_type": "execute_result"
    }
   ],
   "source": [
    "#Sutração\n",
    "500-498"
   ]
  },
  {
   "cell_type": "code",
   "execution_count": 2,
   "id": "7a2b97d8",
   "metadata": {},
   "outputs": [
    {
     "data": {
      "text/plain": [
       "28"
      ]
     },
     "execution_count": 2,
     "metadata": {},
     "output_type": "execute_result"
    }
   ],
   "source": [
    "#Resto da divisão\n",
    "6553% 29"
   ]
  },
  {
   "cell_type": "code",
   "execution_count": 7,
   "id": "24df18b6",
   "metadata": {},
   "outputs": [
    {
     "data": {
      "text/plain": [
       "32768"
      ]
     },
     "execution_count": 7,
     "metadata": {},
     "output_type": "execute_result"
    }
   ],
   "source": [
    "pow(8,5)"
   ]
  }
 ],
 "metadata": {
  "kernelspec": {
   "display_name": "Python 3 (ipykernel)",
   "language": "python",
   "name": "python3"
  },
  "language_info": {
   "codemirror_mode": {
    "name": "ipython",
    "version": 3
   },
   "file_extension": ".py",
   "mimetype": "text/x-python",
   "name": "python",
   "nbconvert_exporter": "python",
   "pygments_lexer": "ipython3",
   "version": "3.9.7"
  }
 },
 "nbformat": 4,
 "nbformat_minor": 5
}
