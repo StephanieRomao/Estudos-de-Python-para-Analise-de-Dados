{
 "cells": [
  {
   "cell_type": "markdown",
   "id": "91a1bbd5",
   "metadata": {},
   "source": [
    "##### a) Crie uma função que transforme semanas em dias , peça ao usuário a quantidade de semanas e retorne a quantidade correspondente de dias.\n",
    "##### b) Use uma função lambda retorna a quantidade de segundos contidos em uma determinada quantidade de horas.\n",
    "##### c) Use as funções map e lambda para executar a expressão x*5.1+100 sobre os elementos da lista a seguir: [300, 400, 500, 700, 800], lembrando que x representa cada elemento da lista."
   ]
  },
  {
   "cell_type": "code",
   "execution_count": null,
   "id": "33ce9e07",
   "metadata": {},
   "outputs": [],
   "source": []
  }
 ],
 "metadata": {
  "kernelspec": {
   "display_name": "Python 3 (ipykernel)",
   "language": "python",
   "name": "python3"
  },
  "language_info": {
   "codemirror_mode": {
    "name": "ipython",
    "version": 3
   },
   "file_extension": ".py",
   "mimetype": "text/x-python",
   "name": "python",
   "nbconvert_exporter": "python",
   "pygments_lexer": "ipython3",
   "version": "3.9.7"
  }
 },
 "nbformat": 4,
 "nbformat_minor": 5
}
